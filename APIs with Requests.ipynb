{
 "cells": [
  {
   "cell_type": "code",
   "execution_count": 9,
   "id": "eb90c84c",
   "metadata": {},
   "outputs": [],
   "source": [
    "base_url = \"https://api.exchangerate.host/latest\""
   ]
  },
  {
   "cell_type": "code",
   "execution_count": 10,
   "id": "6b2a7e90",
   "metadata": {},
   "outputs": [],
   "source": [
    "import requests # provides the '.json()' method, which converts a JSON formatted reponse to a native Python object"
   ]
  },
  {
   "cell_type": "code",
   "execution_count": 11,
   "id": "6d6d1175",
   "metadata": {},
   "outputs": [],
   "source": [
    "response = requests.get(base_url)\n",
    "# The '.get()' method submits a GET request to the indicated URL and returns the response from the server"
   ]
  },
  {
   "cell_type": "markdown",
   "id": "fc3a463f",
   "metadata": {},
   "source": [
    "## Investigating the response"
   ]
  },
  {
   "cell_type": "code",
   "execution_count": 12,
   "id": "05d18d84",
   "metadata": {},
   "outputs": [
    {
     "data": {
      "text/plain": [
       "True"
      ]
     },
     "execution_count": 12,
     "metadata": {},
     "output_type": "execute_result"
    }
   ],
   "source": [
    "response.ok"
   ]
  },
  {
   "cell_type": "code",
   "execution_count": 13,
   "id": "f7800015",
   "metadata": {},
   "outputs": [
    {
     "data": {
      "text/plain": [
       "200"
      ]
     },
     "execution_count": 13,
     "metadata": {},
     "output_type": "execute_result"
    }
   ],
   "source": [
    "response.status_code #successfull"
   ]
  },
  {
   "cell_type": "code",
   "execution_count": 14,
   "id": "a181595c",
   "metadata": {},
   "outputs": [
    {
     "data": {
      "text/plain": [
       "'{\"motd\":{\"msg\":\"If you or your company use this project or like what we doing, please consider backing us so we can continue maintaining and evolving this project.\",\"url\":\"https://exchangerate.host/#/donate\"},\"success\":true,\"base\":\"EUR\",\"date\":\"2023-08-28\",\"rates\":{\"AED\":3.96701,\"AFN\":89.739567,\"ALL\":110.532176,\"AMD\":416.842542,\"ANG\":1.94706,\"AOA\":891.04106,\"ARS\":377.773879,\"AUD\":1.680253,\"AWG\":1.944761,\"AZN\":1.837347,\"BAM\":1.956553,\"BBD\":2.160667,\"BDT\":118.028459,\"BGN\":1.956091,\"BHD\":0.408244,\"BIF\":3063.344881,\"BMD\":1.080822,\"BND\":1.464089,\"BOB\":7.466247,\"BRL\":5.262284,\"BSD\":1.08068,\"BTC\":0.000042,\"BTN\":89.318697,\"BWP\":14.576449,\"BYN\":2.726124,\"BZD\":2.177563,\"CAD\":1.46814,\"CDF\":2679.728575,\"CHF\":0.953704,\"CLF\":0.033784,\"CLP\":915.319747,\"CNH\":7.874166,\"CNY\":7.867509,\"COP\":4421.314322,\"CRC\":582.069334,\"CUC\":1.080573,\"CUP\":27.811666,\"CVE\":110.272025,\"CZK\":24.068661,\"DJF\":192.321118,\"DKK\":7.446658,\"DOP\":61.357148,\"DZD\":147.845266,\"EGP\":33.354778,\"ERN\":16.201782,\"ETB\":59.439881,\"EUR\":1,\"FJD\":2.449179,\"FKP\":0.857858,\"GBP\":0.857633,\"GEL\":2.836503,\"GGP\":0.858134,\"GHS\":12.262372,\"GIP\":0.857669,\"GMD\":65.690531,\"GNF\":9276.810582,\"GTQ\":8.485662,\"GYD\":226.024703,\"HKD\":8.473524,\"HNL\":26.590589,\"HRK\":7.531585,\"HTG\":146.348299,\"HUF\":381.456926,\"IDR\":16512.326518,\"ILS\":4.094852,\"IMP\":0.857719,\"INR\":89.224214,\"IQD\":1414.887526,\"IRR\":45633.276479,\"ISK\":142.181551,\"JEP\":0.857552,\"JMD\":167.339582,\"JOD\":0.764561,\"JPY\":158.141717,\"KES\":154.189938,\"KGS\":95.284679,\"KHR\":4484.994039,\"KMF\":491.686141,\"KPW\":972.070564,\"KRW\":1430.088643,\"KWD\":0.332872,\"KYD\":0.90101,\"KZT\":502.332049,\"LAK\":21184.896955,\"LBP\":16211.891036,\"LKR\":350.042566,\"LRD\":200.892891,\"LSL\":20.162343,\"LYD\":5.207624,\"MAD\":10.8334,\"MDL\":19.248541,\"MGA\":4893.145651,\"MKD\":61.521533,\"MMK\":2268.231286,\"MNT\":3726.267879,\"MOP\":8.729329,\"MRU\":41.344058,\"MUR\":49.187556,\"MVR\":16.633459,\"MWK\":1163.294236,\"MXN\":18.063145,\"MYR\":5.024574,\"MZN\":68.943424,\"NAD\":20.091902,\"NGN\":836.564219,\"NIO\":39.511255,\"NOK\":11.540234,\"NPR\":142.86876,\"NZD\":1.824796,\"OMR\":0.416449,\"PAB\":1.080955,\"PEN\":3.990512,\"PGK\":3.9535,\"PHP\":61.251694,\"PKR\":327.27711,\"PLN\":4.464264,\"PYG\":7869.814575,\"QAR\":3.935973,\"RON\":4.932329,\"RSD\":117.313023,\"RUB\":103.242076,\"RWF\":1281.960415,\"SAR\":4.047115,\"SBD\":9.040256,\"SCR\":14.308296,\"SDG\":649.667034,\"SEK\":11.910043,\"SGD\":1.464708,\"SHP\":0.858138,\"SLL\":22648.687082,\"SOS\":615.085801,\"SRD\":41.243261,\"SSP\":140.691578,\"STD\":24066.071785,\"STN\":24.494657,\"SVC\":9.452807,\"SYP\":2713.728281,\"SZL\":20.155607,\"THB\":38.058338,\"TJS\":11.866293,\"TMT\":3.785105,\"TND\":3.341561,\"TOP\":2.584102,\"TRY\":28.608402,\"TTD\":7.344227,\"TWD\":34.392672,\"TZS\":2705.594314,\"UAH\":39.889181,\"UGX\":3992.235201,\"USD\":1.080583,\"UYU\":40.744889,\"UZS\":13039.799771,\"VES\":34.82737,\"VND\":25941.581002,\"VUV\":128.230144,\"WST\":2.937178,\"XAF\":655.427414,\"XAG\":0.045776,\"XAU\":0.001696,\"XCD\":2.919257,\"XDR\":0.812592,\"XOF\":655.42689,\"XPD\":0.001235,\"XPF\":119.235995,\"XPT\":0.001408,\"YER\":270.303059,\"ZAR\":20.106916,\"ZMW\":21.305069,\"ZWL\":347.785227}}'"
      ]
     },
     "execution_count": 14,
     "metadata": {},
     "output_type": "execute_result"
    }
   ],
   "source": [
    "response.text # 'text' return a regular string"
   ]
  },
  {
   "cell_type": "code",
   "execution_count": 15,
   "id": "113d3ea2",
   "metadata": {},
   "outputs": [
    {
     "data": {
      "text/plain": [
       "b'{\"motd\":{\"msg\":\"If you or your company use this project or like what we doing, please consider backing us so we can continue maintaining and evolving this project.\",\"url\":\"https://exchangerate.host/#/donate\"},\"success\":true,\"base\":\"EUR\",\"date\":\"2023-08-28\",\"rates\":{\"AED\":3.96701,\"AFN\":89.739567,\"ALL\":110.532176,\"AMD\":416.842542,\"ANG\":1.94706,\"AOA\":891.04106,\"ARS\":377.773879,\"AUD\":1.680253,\"AWG\":1.944761,\"AZN\":1.837347,\"BAM\":1.956553,\"BBD\":2.160667,\"BDT\":118.028459,\"BGN\":1.956091,\"BHD\":0.408244,\"BIF\":3063.344881,\"BMD\":1.080822,\"BND\":1.464089,\"BOB\":7.466247,\"BRL\":5.262284,\"BSD\":1.08068,\"BTC\":0.000042,\"BTN\":89.318697,\"BWP\":14.576449,\"BYN\":2.726124,\"BZD\":2.177563,\"CAD\":1.46814,\"CDF\":2679.728575,\"CHF\":0.953704,\"CLF\":0.033784,\"CLP\":915.319747,\"CNH\":7.874166,\"CNY\":7.867509,\"COP\":4421.314322,\"CRC\":582.069334,\"CUC\":1.080573,\"CUP\":27.811666,\"CVE\":110.272025,\"CZK\":24.068661,\"DJF\":192.321118,\"DKK\":7.446658,\"DOP\":61.357148,\"DZD\":147.845266,\"EGP\":33.354778,\"ERN\":16.201782,\"ETB\":59.439881,\"EUR\":1,\"FJD\":2.449179,\"FKP\":0.857858,\"GBP\":0.857633,\"GEL\":2.836503,\"GGP\":0.858134,\"GHS\":12.262372,\"GIP\":0.857669,\"GMD\":65.690531,\"GNF\":9276.810582,\"GTQ\":8.485662,\"GYD\":226.024703,\"HKD\":8.473524,\"HNL\":26.590589,\"HRK\":7.531585,\"HTG\":146.348299,\"HUF\":381.456926,\"IDR\":16512.326518,\"ILS\":4.094852,\"IMP\":0.857719,\"INR\":89.224214,\"IQD\":1414.887526,\"IRR\":45633.276479,\"ISK\":142.181551,\"JEP\":0.857552,\"JMD\":167.339582,\"JOD\":0.764561,\"JPY\":158.141717,\"KES\":154.189938,\"KGS\":95.284679,\"KHR\":4484.994039,\"KMF\":491.686141,\"KPW\":972.070564,\"KRW\":1430.088643,\"KWD\":0.332872,\"KYD\":0.90101,\"KZT\":502.332049,\"LAK\":21184.896955,\"LBP\":16211.891036,\"LKR\":350.042566,\"LRD\":200.892891,\"LSL\":20.162343,\"LYD\":5.207624,\"MAD\":10.8334,\"MDL\":19.248541,\"MGA\":4893.145651,\"MKD\":61.521533,\"MMK\":2268.231286,\"MNT\":3726.267879,\"MOP\":8.729329,\"MRU\":41.344058,\"MUR\":49.187556,\"MVR\":16.633459,\"MWK\":1163.294236,\"MXN\":18.063145,\"MYR\":5.024574,\"MZN\":68.943424,\"NAD\":20.091902,\"NGN\":836.564219,\"NIO\":39.511255,\"NOK\":11.540234,\"NPR\":142.86876,\"NZD\":1.824796,\"OMR\":0.416449,\"PAB\":1.080955,\"PEN\":3.990512,\"PGK\":3.9535,\"PHP\":61.251694,\"PKR\":327.27711,\"PLN\":4.464264,\"PYG\":7869.814575,\"QAR\":3.935973,\"RON\":4.932329,\"RSD\":117.313023,\"RUB\":103.242076,\"RWF\":1281.960415,\"SAR\":4.047115,\"SBD\":9.040256,\"SCR\":14.308296,\"SDG\":649.667034,\"SEK\":11.910043,\"SGD\":1.464708,\"SHP\":0.858138,\"SLL\":22648.687082,\"SOS\":615.085801,\"SRD\":41.243261,\"SSP\":140.691578,\"STD\":24066.071785,\"STN\":24.494657,\"SVC\":9.452807,\"SYP\":2713.728281,\"SZL\":20.155607,\"THB\":38.058338,\"TJS\":11.866293,\"TMT\":3.785105,\"TND\":3.341561,\"TOP\":2.584102,\"TRY\":28.608402,\"TTD\":7.344227,\"TWD\":34.392672,\"TZS\":2705.594314,\"UAH\":39.889181,\"UGX\":3992.235201,\"USD\":1.080583,\"UYU\":40.744889,\"UZS\":13039.799771,\"VES\":34.82737,\"VND\":25941.581002,\"VUV\":128.230144,\"WST\":2.937178,\"XAF\":655.427414,\"XAG\":0.045776,\"XAU\":0.001696,\"XCD\":2.919257,\"XDR\":0.812592,\"XOF\":655.42689,\"XPD\":0.001235,\"XPF\":119.235995,\"XPT\":0.001408,\"YER\":270.303059,\"ZAR\":20.106916,\"ZMW\":21.305069,\"ZWL\":347.785227}}'"
      ]
     },
     "execution_count": 15,
     "metadata": {},
     "output_type": "execute_result"
    }
   ],
   "source": [
    "response.content # '.content' returns the data in bytes format"
   ]
  },
  {
   "cell_type": "markdown",
   "id": "56085628",
   "metadata": {},
   "source": [
    "## Handling the JSON"
   ]
  },
  {
   "cell_type": "code",
   "execution_count": 16,
   "id": "fc08136e",
   "metadata": {},
   "outputs": [
    {
     "data": {
      "text/plain": [
       "{'motd': {'msg': 'If you or your company use this project or like what we doing, please consider backing us so we can continue maintaining and evolving this project.',\n",
       "  'url': 'https://exchangerate.host/#/donate'},\n",
       " 'success': True,\n",
       " 'base': 'EUR',\n",
       " 'date': '2023-08-28',\n",
       " 'rates': {'AED': 3.96701,\n",
       "  'AFN': 89.739567,\n",
       "  'ALL': 110.532176,\n",
       "  'AMD': 416.842542,\n",
       "  'ANG': 1.94706,\n",
       "  'AOA': 891.04106,\n",
       "  'ARS': 377.773879,\n",
       "  'AUD': 1.680253,\n",
       "  'AWG': 1.944761,\n",
       "  'AZN': 1.837347,\n",
       "  'BAM': 1.956553,\n",
       "  'BBD': 2.160667,\n",
       "  'BDT': 118.028459,\n",
       "  'BGN': 1.956091,\n",
       "  'BHD': 0.408244,\n",
       "  'BIF': 3063.344881,\n",
       "  'BMD': 1.080822,\n",
       "  'BND': 1.464089,\n",
       "  'BOB': 7.466247,\n",
       "  'BRL': 5.262284,\n",
       "  'BSD': 1.08068,\n",
       "  'BTC': 4.2e-05,\n",
       "  'BTN': 89.318697,\n",
       "  'BWP': 14.576449,\n",
       "  'BYN': 2.726124,\n",
       "  'BZD': 2.177563,\n",
       "  'CAD': 1.46814,\n",
       "  'CDF': 2679.728575,\n",
       "  'CHF': 0.953704,\n",
       "  'CLF': 0.033784,\n",
       "  'CLP': 915.319747,\n",
       "  'CNH': 7.874166,\n",
       "  'CNY': 7.867509,\n",
       "  'COP': 4421.314322,\n",
       "  'CRC': 582.069334,\n",
       "  'CUC': 1.080573,\n",
       "  'CUP': 27.811666,\n",
       "  'CVE': 110.272025,\n",
       "  'CZK': 24.068661,\n",
       "  'DJF': 192.321118,\n",
       "  'DKK': 7.446658,\n",
       "  'DOP': 61.357148,\n",
       "  'DZD': 147.845266,\n",
       "  'EGP': 33.354778,\n",
       "  'ERN': 16.201782,\n",
       "  'ETB': 59.439881,\n",
       "  'EUR': 1,\n",
       "  'FJD': 2.449179,\n",
       "  'FKP': 0.857858,\n",
       "  'GBP': 0.857633,\n",
       "  'GEL': 2.836503,\n",
       "  'GGP': 0.858134,\n",
       "  'GHS': 12.262372,\n",
       "  'GIP': 0.857669,\n",
       "  'GMD': 65.690531,\n",
       "  'GNF': 9276.810582,\n",
       "  'GTQ': 8.485662,\n",
       "  'GYD': 226.024703,\n",
       "  'HKD': 8.473524,\n",
       "  'HNL': 26.590589,\n",
       "  'HRK': 7.531585,\n",
       "  'HTG': 146.348299,\n",
       "  'HUF': 381.456926,\n",
       "  'IDR': 16512.326518,\n",
       "  'ILS': 4.094852,\n",
       "  'IMP': 0.857719,\n",
       "  'INR': 89.224214,\n",
       "  'IQD': 1414.887526,\n",
       "  'IRR': 45633.276479,\n",
       "  'ISK': 142.181551,\n",
       "  'JEP': 0.857552,\n",
       "  'JMD': 167.339582,\n",
       "  'JOD': 0.764561,\n",
       "  'JPY': 158.141717,\n",
       "  'KES': 154.189938,\n",
       "  'KGS': 95.284679,\n",
       "  'KHR': 4484.994039,\n",
       "  'KMF': 491.686141,\n",
       "  'KPW': 972.070564,\n",
       "  'KRW': 1430.088643,\n",
       "  'KWD': 0.332872,\n",
       "  'KYD': 0.90101,\n",
       "  'KZT': 502.332049,\n",
       "  'LAK': 21184.896955,\n",
       "  'LBP': 16211.891036,\n",
       "  'LKR': 350.042566,\n",
       "  'LRD': 200.892891,\n",
       "  'LSL': 20.162343,\n",
       "  'LYD': 5.207624,\n",
       "  'MAD': 10.8334,\n",
       "  'MDL': 19.248541,\n",
       "  'MGA': 4893.145651,\n",
       "  'MKD': 61.521533,\n",
       "  'MMK': 2268.231286,\n",
       "  'MNT': 3726.267879,\n",
       "  'MOP': 8.729329,\n",
       "  'MRU': 41.344058,\n",
       "  'MUR': 49.187556,\n",
       "  'MVR': 16.633459,\n",
       "  'MWK': 1163.294236,\n",
       "  'MXN': 18.063145,\n",
       "  'MYR': 5.024574,\n",
       "  'MZN': 68.943424,\n",
       "  'NAD': 20.091902,\n",
       "  'NGN': 836.564219,\n",
       "  'NIO': 39.511255,\n",
       "  'NOK': 11.540234,\n",
       "  'NPR': 142.86876,\n",
       "  'NZD': 1.824796,\n",
       "  'OMR': 0.416449,\n",
       "  'PAB': 1.080955,\n",
       "  'PEN': 3.990512,\n",
       "  'PGK': 3.9535,\n",
       "  'PHP': 61.251694,\n",
       "  'PKR': 327.27711,\n",
       "  'PLN': 4.464264,\n",
       "  'PYG': 7869.814575,\n",
       "  'QAR': 3.935973,\n",
       "  'RON': 4.932329,\n",
       "  'RSD': 117.313023,\n",
       "  'RUB': 103.242076,\n",
       "  'RWF': 1281.960415,\n",
       "  'SAR': 4.047115,\n",
       "  'SBD': 9.040256,\n",
       "  'SCR': 14.308296,\n",
       "  'SDG': 649.667034,\n",
       "  'SEK': 11.910043,\n",
       "  'SGD': 1.464708,\n",
       "  'SHP': 0.858138,\n",
       "  'SLL': 22648.687082,\n",
       "  'SOS': 615.085801,\n",
       "  'SRD': 41.243261,\n",
       "  'SSP': 140.691578,\n",
       "  'STD': 24066.071785,\n",
       "  'STN': 24.494657,\n",
       "  'SVC': 9.452807,\n",
       "  'SYP': 2713.728281,\n",
       "  'SZL': 20.155607,\n",
       "  'THB': 38.058338,\n",
       "  'TJS': 11.866293,\n",
       "  'TMT': 3.785105,\n",
       "  'TND': 3.341561,\n",
       "  'TOP': 2.584102,\n",
       "  'TRY': 28.608402,\n",
       "  'TTD': 7.344227,\n",
       "  'TWD': 34.392672,\n",
       "  'TZS': 2705.594314,\n",
       "  'UAH': 39.889181,\n",
       "  'UGX': 3992.235201,\n",
       "  'USD': 1.080583,\n",
       "  'UYU': 40.744889,\n",
       "  'UZS': 13039.799771,\n",
       "  'VES': 34.82737,\n",
       "  'VND': 25941.581002,\n",
       "  'VUV': 128.230144,\n",
       "  'WST': 2.937178,\n",
       "  'XAF': 655.427414,\n",
       "  'XAG': 0.045776,\n",
       "  'XAU': 0.001696,\n",
       "  'XCD': 2.919257,\n",
       "  'XDR': 0.812592,\n",
       "  'XOF': 655.42689,\n",
       "  'XPD': 0.001235,\n",
       "  'XPF': 119.235995,\n",
       "  'XPT': 0.001408,\n",
       "  'YER': 270.303059,\n",
       "  'ZAR': 20.106916,\n",
       "  'ZMW': 21.305069,\n",
       "  'ZWL': 347.785227}}"
      ]
     },
     "execution_count": 16,
     "metadata": {},
     "output_type": "execute_result"
    }
   ],
   "source": [
    "response.json()"
   ]
  },
  {
   "cell_type": "code",
   "execution_count": 17,
   "id": "aefcf8e1",
   "metadata": {},
   "outputs": [
    {
     "data": {
      "text/plain": [
       "dict"
      ]
     },
     "execution_count": 17,
     "metadata": {},
     "output_type": "execute_result"
    }
   ],
   "source": [
    "type(response.json())"
   ]
  },
  {
   "cell_type": "code",
   "execution_count": 18,
   "id": "f917f1eb",
   "metadata": {},
   "outputs": [],
   "source": [
    "# loads(string): converts a JSON formatted string to a Python object\n",
    "# dumps(obj): convert a Python object back to a regular string, with options to make the string prettier\n",
    "import json"
   ]
  },
  {
   "cell_type": "code",
   "execution_count": 19,
   "id": "4d888fe0",
   "metadata": {},
   "outputs": [
    {
     "data": {
      "text/plain": [
       "'{\\n    \"motd\": {\\n        \"msg\": \"If you or your company use this project or like what we doing, please consider backing us so we can continue maintaining and evolving this project.\",\\n        \"url\": \"https://exchangerate.host/#/donate\"\\n    },\\n    \"success\": true,\\n    \"base\": \"EUR\",\\n    \"date\": \"2023-08-28\",\\n    \"rates\": {\\n        \"AED\": 3.96701,\\n        \"AFN\": 89.739567,\\n        \"ALL\": 110.532176,\\n        \"AMD\": 416.842542,\\n        \"ANG\": 1.94706,\\n        \"AOA\": 891.04106,\\n        \"ARS\": 377.773879,\\n        \"AUD\": 1.680253,\\n        \"AWG\": 1.944761,\\n        \"AZN\": 1.837347,\\n        \"BAM\": 1.956553,\\n        \"BBD\": 2.160667,\\n        \"BDT\": 118.028459,\\n        \"BGN\": 1.956091,\\n        \"BHD\": 0.408244,\\n        \"BIF\": 3063.344881,\\n        \"BMD\": 1.080822,\\n        \"BND\": 1.464089,\\n        \"BOB\": 7.466247,\\n        \"BRL\": 5.262284,\\n        \"BSD\": 1.08068,\\n        \"BTC\": 4.2e-05,\\n        \"BTN\": 89.318697,\\n        \"BWP\": 14.576449,\\n        \"BYN\": 2.726124,\\n        \"BZD\": 2.177563,\\n        \"CAD\": 1.46814,\\n        \"CDF\": 2679.728575,\\n        \"CHF\": 0.953704,\\n        \"CLF\": 0.033784,\\n        \"CLP\": 915.319747,\\n        \"CNH\": 7.874166,\\n        \"CNY\": 7.867509,\\n        \"COP\": 4421.314322,\\n        \"CRC\": 582.069334,\\n        \"CUC\": 1.080573,\\n        \"CUP\": 27.811666,\\n        \"CVE\": 110.272025,\\n        \"CZK\": 24.068661,\\n        \"DJF\": 192.321118,\\n        \"DKK\": 7.446658,\\n        \"DOP\": 61.357148,\\n        \"DZD\": 147.845266,\\n        \"EGP\": 33.354778,\\n        \"ERN\": 16.201782,\\n        \"ETB\": 59.439881,\\n        \"EUR\": 1,\\n        \"FJD\": 2.449179,\\n        \"FKP\": 0.857858,\\n        \"GBP\": 0.857633,\\n        \"GEL\": 2.836503,\\n        \"GGP\": 0.858134,\\n        \"GHS\": 12.262372,\\n        \"GIP\": 0.857669,\\n        \"GMD\": 65.690531,\\n        \"GNF\": 9276.810582,\\n        \"GTQ\": 8.485662,\\n        \"GYD\": 226.024703,\\n        \"HKD\": 8.473524,\\n        \"HNL\": 26.590589,\\n        \"HRK\": 7.531585,\\n        \"HTG\": 146.348299,\\n        \"HUF\": 381.456926,\\n        \"IDR\": 16512.326518,\\n        \"ILS\": 4.094852,\\n        \"IMP\": 0.857719,\\n        \"INR\": 89.224214,\\n        \"IQD\": 1414.887526,\\n        \"IRR\": 45633.276479,\\n        \"ISK\": 142.181551,\\n        \"JEP\": 0.857552,\\n        \"JMD\": 167.339582,\\n        \"JOD\": 0.764561,\\n        \"JPY\": 158.141717,\\n        \"KES\": 154.189938,\\n        \"KGS\": 95.284679,\\n        \"KHR\": 4484.994039,\\n        \"KMF\": 491.686141,\\n        \"KPW\": 972.070564,\\n        \"KRW\": 1430.088643,\\n        \"KWD\": 0.332872,\\n        \"KYD\": 0.90101,\\n        \"KZT\": 502.332049,\\n        \"LAK\": 21184.896955,\\n        \"LBP\": 16211.891036,\\n        \"LKR\": 350.042566,\\n        \"LRD\": 200.892891,\\n        \"LSL\": 20.162343,\\n        \"LYD\": 5.207624,\\n        \"MAD\": 10.8334,\\n        \"MDL\": 19.248541,\\n        \"MGA\": 4893.145651,\\n        \"MKD\": 61.521533,\\n        \"MMK\": 2268.231286,\\n        \"MNT\": 3726.267879,\\n        \"MOP\": 8.729329,\\n        \"MRU\": 41.344058,\\n        \"MUR\": 49.187556,\\n        \"MVR\": 16.633459,\\n        \"MWK\": 1163.294236,\\n        \"MXN\": 18.063145,\\n        \"MYR\": 5.024574,\\n        \"MZN\": 68.943424,\\n        \"NAD\": 20.091902,\\n        \"NGN\": 836.564219,\\n        \"NIO\": 39.511255,\\n        \"NOK\": 11.540234,\\n        \"NPR\": 142.86876,\\n        \"NZD\": 1.824796,\\n        \"OMR\": 0.416449,\\n        \"PAB\": 1.080955,\\n        \"PEN\": 3.990512,\\n        \"PGK\": 3.9535,\\n        \"PHP\": 61.251694,\\n        \"PKR\": 327.27711,\\n        \"PLN\": 4.464264,\\n        \"PYG\": 7869.814575,\\n        \"QAR\": 3.935973,\\n        \"RON\": 4.932329,\\n        \"RSD\": 117.313023,\\n        \"RUB\": 103.242076,\\n        \"RWF\": 1281.960415,\\n        \"SAR\": 4.047115,\\n        \"SBD\": 9.040256,\\n        \"SCR\": 14.308296,\\n        \"SDG\": 649.667034,\\n        \"SEK\": 11.910043,\\n        \"SGD\": 1.464708,\\n        \"SHP\": 0.858138,\\n        \"SLL\": 22648.687082,\\n        \"SOS\": 615.085801,\\n        \"SRD\": 41.243261,\\n        \"SSP\": 140.691578,\\n        \"STD\": 24066.071785,\\n        \"STN\": 24.494657,\\n        \"SVC\": 9.452807,\\n        \"SYP\": 2713.728281,\\n        \"SZL\": 20.155607,\\n        \"THB\": 38.058338,\\n        \"TJS\": 11.866293,\\n        \"TMT\": 3.785105,\\n        \"TND\": 3.341561,\\n        \"TOP\": 2.584102,\\n        \"TRY\": 28.608402,\\n        \"TTD\": 7.344227,\\n        \"TWD\": 34.392672,\\n        \"TZS\": 2705.594314,\\n        \"UAH\": 39.889181,\\n        \"UGX\": 3992.235201,\\n        \"USD\": 1.080583,\\n        \"UYU\": 40.744889,\\n        \"UZS\": 13039.799771,\\n        \"VES\": 34.82737,\\n        \"VND\": 25941.581002,\\n        \"VUV\": 128.230144,\\n        \"WST\": 2.937178,\\n        \"XAF\": 655.427414,\\n        \"XAG\": 0.045776,\\n        \"XAU\": 0.001696,\\n        \"XCD\": 2.919257,\\n        \"XDR\": 0.812592,\\n        \"XOF\": 655.42689,\\n        \"XPD\": 0.001235,\\n        \"XPF\": 119.235995,\\n        \"XPT\": 0.001408,\\n        \"YER\": 270.303059,\\n        \"ZAR\": 20.106916,\\n        \"ZMW\": 21.305069,\\n        \"ZWL\": 347.785227\\n    }\\n}'"
      ]
     },
     "execution_count": 19,
     "metadata": {},
     "output_type": "execute_result"
    }
   ],
   "source": [
    "json.dumps(response.json(), indent = 4)"
   ]
  },
  {
   "cell_type": "code",
   "execution_count": 20,
   "id": "afa28d20",
   "metadata": {},
   "outputs": [
    {
     "name": "stdout",
     "output_type": "stream",
     "text": [
      "{\n",
      "    \"motd\": {\n",
      "        \"msg\": \"If you or your company use this project or like what we doing, please consider backing us so we can continue maintaining and evolving this project.\",\n",
      "        \"url\": \"https://exchangerate.host/#/donate\"\n",
      "    },\n",
      "    \"success\": true,\n",
      "    \"base\": \"EUR\",\n",
      "    \"date\": \"2023-08-28\",\n",
      "    \"rates\": {\n",
      "        \"AED\": 3.96701,\n",
      "        \"AFN\": 89.739567,\n",
      "        \"ALL\": 110.532176,\n",
      "        \"AMD\": 416.842542,\n",
      "        \"ANG\": 1.94706,\n",
      "        \"AOA\": 891.04106,\n",
      "        \"ARS\": 377.773879,\n",
      "        \"AUD\": 1.680253,\n",
      "        \"AWG\": 1.944761,\n",
      "        \"AZN\": 1.837347,\n",
      "        \"BAM\": 1.956553,\n",
      "        \"BBD\": 2.160667,\n",
      "        \"BDT\": 118.028459,\n",
      "        \"BGN\": 1.956091,\n",
      "        \"BHD\": 0.408244,\n",
      "        \"BIF\": 3063.344881,\n",
      "        \"BMD\": 1.080822,\n",
      "        \"BND\": 1.464089,\n",
      "        \"BOB\": 7.466247,\n",
      "        \"BRL\": 5.262284,\n",
      "        \"BSD\": 1.08068,\n",
      "        \"BTC\": 4.2e-05,\n",
      "        \"BTN\": 89.318697,\n",
      "        \"BWP\": 14.576449,\n",
      "        \"BYN\": 2.726124,\n",
      "        \"BZD\": 2.177563,\n",
      "        \"CAD\": 1.46814,\n",
      "        \"CDF\": 2679.728575,\n",
      "        \"CHF\": 0.953704,\n",
      "        \"CLF\": 0.033784,\n",
      "        \"CLP\": 915.319747,\n",
      "        \"CNH\": 7.874166,\n",
      "        \"CNY\": 7.867509,\n",
      "        \"COP\": 4421.314322,\n",
      "        \"CRC\": 582.069334,\n",
      "        \"CUC\": 1.080573,\n",
      "        \"CUP\": 27.811666,\n",
      "        \"CVE\": 110.272025,\n",
      "        \"CZK\": 24.068661,\n",
      "        \"DJF\": 192.321118,\n",
      "        \"DKK\": 7.446658,\n",
      "        \"DOP\": 61.357148,\n",
      "        \"DZD\": 147.845266,\n",
      "        \"EGP\": 33.354778,\n",
      "        \"ERN\": 16.201782,\n",
      "        \"ETB\": 59.439881,\n",
      "        \"EUR\": 1,\n",
      "        \"FJD\": 2.449179,\n",
      "        \"FKP\": 0.857858,\n",
      "        \"GBP\": 0.857633,\n",
      "        \"GEL\": 2.836503,\n",
      "        \"GGP\": 0.858134,\n",
      "        \"GHS\": 12.262372,\n",
      "        \"GIP\": 0.857669,\n",
      "        \"GMD\": 65.690531,\n",
      "        \"GNF\": 9276.810582,\n",
      "        \"GTQ\": 8.485662,\n",
      "        \"GYD\": 226.024703,\n",
      "        \"HKD\": 8.473524,\n",
      "        \"HNL\": 26.590589,\n",
      "        \"HRK\": 7.531585,\n",
      "        \"HTG\": 146.348299,\n",
      "        \"HUF\": 381.456926,\n",
      "        \"IDR\": 16512.326518,\n",
      "        \"ILS\": 4.094852,\n",
      "        \"IMP\": 0.857719,\n",
      "        \"INR\": 89.224214,\n",
      "        \"IQD\": 1414.887526,\n",
      "        \"IRR\": 45633.276479,\n",
      "        \"ISK\": 142.181551,\n",
      "        \"JEP\": 0.857552,\n",
      "        \"JMD\": 167.339582,\n",
      "        \"JOD\": 0.764561,\n",
      "        \"JPY\": 158.141717,\n",
      "        \"KES\": 154.189938,\n",
      "        \"KGS\": 95.284679,\n",
      "        \"KHR\": 4484.994039,\n",
      "        \"KMF\": 491.686141,\n",
      "        \"KPW\": 972.070564,\n",
      "        \"KRW\": 1430.088643,\n",
      "        \"KWD\": 0.332872,\n",
      "        \"KYD\": 0.90101,\n",
      "        \"KZT\": 502.332049,\n",
      "        \"LAK\": 21184.896955,\n",
      "        \"LBP\": 16211.891036,\n",
      "        \"LKR\": 350.042566,\n",
      "        \"LRD\": 200.892891,\n",
      "        \"LSL\": 20.162343,\n",
      "        \"LYD\": 5.207624,\n",
      "        \"MAD\": 10.8334,\n",
      "        \"MDL\": 19.248541,\n",
      "        \"MGA\": 4893.145651,\n",
      "        \"MKD\": 61.521533,\n",
      "        \"MMK\": 2268.231286,\n",
      "        \"MNT\": 3726.267879,\n",
      "        \"MOP\": 8.729329,\n",
      "        \"MRU\": 41.344058,\n",
      "        \"MUR\": 49.187556,\n",
      "        \"MVR\": 16.633459,\n",
      "        \"MWK\": 1163.294236,\n",
      "        \"MXN\": 18.063145,\n",
      "        \"MYR\": 5.024574,\n",
      "        \"MZN\": 68.943424,\n",
      "        \"NAD\": 20.091902,\n",
      "        \"NGN\": 836.564219,\n",
      "        \"NIO\": 39.511255,\n",
      "        \"NOK\": 11.540234,\n",
      "        \"NPR\": 142.86876,\n",
      "        \"NZD\": 1.824796,\n",
      "        \"OMR\": 0.416449,\n",
      "        \"PAB\": 1.080955,\n",
      "        \"PEN\": 3.990512,\n",
      "        \"PGK\": 3.9535,\n",
      "        \"PHP\": 61.251694,\n",
      "        \"PKR\": 327.27711,\n",
      "        \"PLN\": 4.464264,\n",
      "        \"PYG\": 7869.814575,\n",
      "        \"QAR\": 3.935973,\n",
      "        \"RON\": 4.932329,\n",
      "        \"RSD\": 117.313023,\n",
      "        \"RUB\": 103.242076,\n",
      "        \"RWF\": 1281.960415,\n",
      "        \"SAR\": 4.047115,\n",
      "        \"SBD\": 9.040256,\n",
      "        \"SCR\": 14.308296,\n",
      "        \"SDG\": 649.667034,\n",
      "        \"SEK\": 11.910043,\n",
      "        \"SGD\": 1.464708,\n",
      "        \"SHP\": 0.858138,\n",
      "        \"SLL\": 22648.687082,\n",
      "        \"SOS\": 615.085801,\n",
      "        \"SRD\": 41.243261,\n",
      "        \"SSP\": 140.691578,\n",
      "        \"STD\": 24066.071785,\n",
      "        \"STN\": 24.494657,\n",
      "        \"SVC\": 9.452807,\n",
      "        \"SYP\": 2713.728281,\n",
      "        \"SZL\": 20.155607,\n",
      "        \"THB\": 38.058338,\n",
      "        \"TJS\": 11.866293,\n",
      "        \"TMT\": 3.785105,\n",
      "        \"TND\": 3.341561,\n",
      "        \"TOP\": 2.584102,\n",
      "        \"TRY\": 28.608402,\n",
      "        \"TTD\": 7.344227,\n",
      "        \"TWD\": 34.392672,\n",
      "        \"TZS\": 2705.594314,\n",
      "        \"UAH\": 39.889181,\n",
      "        \"UGX\": 3992.235201,\n",
      "        \"USD\": 1.080583,\n",
      "        \"UYU\": 40.744889,\n",
      "        \"UZS\": 13039.799771,\n",
      "        \"VES\": 34.82737,\n",
      "        \"VND\": 25941.581002,\n",
      "        \"VUV\": 128.230144,\n",
      "        \"WST\": 2.937178,\n",
      "        \"XAF\": 655.427414,\n",
      "        \"XAG\": 0.045776,\n",
      "        \"XAU\": 0.001696,\n",
      "        \"XCD\": 2.919257,\n",
      "        \"XDR\": 0.812592,\n",
      "        \"XOF\": 655.42689,\n",
      "        \"XPD\": 0.001235,\n",
      "        \"XPF\": 119.235995,\n",
      "        \"XPT\": 0.001408,\n",
      "        \"YER\": 270.303059,\n",
      "        \"ZAR\": 20.106916,\n",
      "        \"ZMW\": 21.305069,\n",
      "        \"ZWL\": 347.785227\n",
      "    }\n",
      "}\n"
     ]
    }
   ],
   "source": [
    "print(json.dumps(response.json(), indent = 4))"
   ]
  },
  {
   "cell_type": "code",
   "execution_count": 22,
   "id": "63f08e98",
   "metadata": {},
   "outputs": [
    {
     "data": {
      "text/plain": [
       "dict_keys(['motd', 'success', 'base', 'date', 'rates'])"
      ]
     },
     "execution_count": 22,
     "metadata": {},
     "output_type": "execute_result"
    }
   ],
   "source": [
    "response.json().keys()"
   ]
  },
  {
   "cell_type": "markdown",
   "id": "8aaf285d",
   "metadata": {},
   "source": [
    "## Incorporating parameters in the GET request"
   ]
  },
  {
   "cell_type": "code",
   "execution_count": 23,
   "id": "64973ce9",
   "metadata": {},
   "outputs": [
    {
     "data": {
      "text/plain": [
       "'https://api.exchangerate.host/latest?symbols=USD,GBP'"
      ]
     },
     "execution_count": 23,
     "metadata": {},
     "output_type": "execute_result"
    }
   ],
   "source": [
    "param_url = base_url + \"?symbols=USD,GBP\"\n",
    "param_url"
   ]
  },
  {
   "cell_type": "code",
   "execution_count": 24,
   "id": "9763637d",
   "metadata": {},
   "outputs": [
    {
     "data": {
      "text/plain": [
       "<Response [200]>"
      ]
     },
     "execution_count": 24,
     "metadata": {},
     "output_type": "execute_result"
    }
   ],
   "source": [
    "response = requests.get(param_url)\n",
    "response"
   ]
  },
  {
   "cell_type": "code",
   "execution_count": 26,
   "id": "eacce66f",
   "metadata": {},
   "outputs": [
    {
     "data": {
      "text/plain": [
       "{'motd': {'msg': 'If you or your company use this project or like what we doing, please consider backing us so we can continue maintaining and evolving this project.',\n",
       "  'url': 'https://exchangerate.host/#/donate'},\n",
       " 'success': True,\n",
       " 'base': 'EUR',\n",
       " 'date': '2023-08-28',\n",
       " 'rates': {'GBP': 0.857633, 'USD': 1.080583}}"
      ]
     },
     "execution_count": 26,
     "metadata": {},
     "output_type": "execute_result"
    }
   ],
   "source": [
    "data = response.json()\n",
    "data"
   ]
  },
  {
   "cell_type": "code",
   "execution_count": 27,
   "id": "19eb1494",
   "metadata": {},
   "outputs": [
    {
     "data": {
      "text/plain": [
       "'EUR'"
      ]
     },
     "execution_count": 27,
     "metadata": {},
     "output_type": "execute_result"
    }
   ],
   "source": [
    "data['base']"
   ]
  },
  {
   "cell_type": "code",
   "execution_count": 29,
   "id": "78372ec0",
   "metadata": {},
   "outputs": [
    {
     "data": {
      "text/plain": [
       "'2023-08-28'"
      ]
     },
     "execution_count": 29,
     "metadata": {},
     "output_type": "execute_result"
    }
   ],
   "source": [
    "data['date']"
   ]
  },
  {
   "cell_type": "code",
   "execution_count": 30,
   "id": "b5227b35",
   "metadata": {},
   "outputs": [
    {
     "data": {
      "text/plain": [
       "{'GBP': 0.857633, 'USD': 1.080583}"
      ]
     },
     "execution_count": 30,
     "metadata": {},
     "output_type": "execute_result"
    }
   ],
   "source": [
    "data['rates']"
   ]
  },
  {
   "cell_type": "code",
   "execution_count": 31,
   "id": "62bd1a90",
   "metadata": {},
   "outputs": [
    {
     "data": {
      "text/plain": [
       "'https://api.exchangerate.host/latest?symbols=GBP&base=USD'"
      ]
     },
     "execution_count": 31,
     "metadata": {},
     "output_type": "execute_result"
    }
   ],
   "source": [
    "param_url = base_url + \"?symbols=GBP\" + \"&\" + \"base=USD\"\n",
    "param_url"
   ]
  },
  {
   "cell_type": "code",
   "execution_count": 33,
   "id": "79d25d88",
   "metadata": {},
   "outputs": [
    {
     "data": {
      "text/plain": [
       "{'motd': {'msg': 'If you or your company use this project or like what we doing, please consider backing us so we can continue maintaining and evolving this project.',\n",
       "  'url': 'https://exchangerate.host/#/donate'},\n",
       " 'success': True,\n",
       " 'base': 'USD',\n",
       " 'date': '2023-08-28',\n",
       " 'rates': {'GBP': 0.793676}}"
      ]
     },
     "execution_count": 33,
     "metadata": {},
     "output_type": "execute_result"
    }
   ],
   "source": [
    "data = requests.get(param_url).json()\n",
    "data"
   ]
  },
  {
   "cell_type": "code",
   "execution_count": 34,
   "id": "9e858791",
   "metadata": {},
   "outputs": [
    {
     "data": {
      "text/plain": [
       "0.793676"
      ]
     },
     "execution_count": 34,
     "metadata": {},
     "output_type": "execute_result"
    }
   ],
   "source": [
    "usd_to_gbp = data['rates']['GBP']\n",
    "usd_to_gbp"
   ]
  },
  {
   "cell_type": "markdown",
   "id": "d2eee836",
   "metadata": {},
   "source": [
    "## Obtaining historical exchange rates"
   ]
  },
  {
   "cell_type": "code",
   "execution_count": 73,
   "id": "35b6760b",
   "metadata": {},
   "outputs": [],
   "source": [
    "base_url = \"https://api.exchangerate.host\""
   ]
  },
  {
   "cell_type": "code",
   "execution_count": 74,
   "id": "e78f3610",
   "metadata": {},
   "outputs": [
    {
     "data": {
      "text/plain": [
       "'https://api.exchangerate.host/2016-01-26'"
      ]
     },
     "execution_count": 74,
     "metadata": {},
     "output_type": "execute_result"
    }
   ],
   "source": [
    "historical_url = base_url + \"/2016-01-26\"\n",
    "historical_url"
   ]
  },
  {
   "cell_type": "code",
   "execution_count": 75,
   "id": "a1cfee28",
   "metadata": {},
   "outputs": [
    {
     "data": {
      "text/plain": [
       "<Response [200]>"
      ]
     },
     "execution_count": 75,
     "metadata": {},
     "output_type": "execute_result"
    }
   ],
   "source": [
    "response = requests.get(historical_url)\n",
    "response"
   ]
  },
  {
   "cell_type": "code",
   "execution_count": 76,
   "id": "5cdb40df",
   "metadata": {},
   "outputs": [
    {
     "name": "stdout",
     "output_type": "stream",
     "text": [
      "{\n",
      "    \"motd\": {\n",
      "        \"msg\": \"If you or your company use this project or like what we doing, please consider backing us so we can continue maintaining and evolving this project.\",\n",
      "        \"url\": \"https://exchangerate.host/#/donate\"\n",
      "    },\n",
      "    \"success\": true,\n",
      "    \"historical\": true,\n",
      "    \"base\": \"EUR\",\n",
      "    \"date\": \"2016-01-26\",\n",
      "    \"rates\": {\n",
      "        \"USD\": 1.0853,\n",
      "        \"JPY\": 128.295,\n",
      "        \"BGN\": 1.9484,\n",
      "        \"CZK\": 27,\n",
      "        \"DKK\": 7.4617,\n",
      "        \"GBP\": 0.762,\n",
      "        \"HUF\": 311.9,\n",
      "        \"PLN\": 4.4728,\n",
      "        \"RON\": 4.5278,\n",
      "        \"SEK\": 9.2876,\n",
      "        \"CHF\": 1.0987,\n",
      "        \"NOK\": 9.5015,\n",
      "        \"HRK\": 7.6593,\n",
      "        \"RUB\": 86.1494,\n",
      "        \"TRY\": 3.2802,\n",
      "        \"AUD\": 1.5643,\n",
      "        \"BRL\": 4.4349,\n",
      "        \"CAD\": 1.5515,\n",
      "        \"CNY\": 7.1273,\n",
      "        \"HKD\": 8.4574,\n",
      "        \"IDR\": 14776.9004,\n",
      "        \"ILS\": 4.3092,\n",
      "        \"INR\": 73.441,\n",
      "        \"KRW\": 1299.5699,\n",
      "        \"MXN\": 20.2018,\n",
      "        \"MYR\": 4.5684,\n",
      "        \"NZD\": 1.6848,\n",
      "        \"PHP\": 51.937,\n",
      "        \"SGD\": 1.5528,\n",
      "        \"THB\": 39.0046,\n",
      "        \"ZAR\": 17.9418,\n",
      "        \"EUR\": 1,\n",
      "        \"AED\": 3.9821,\n",
      "        \"AFN\": 73.19,\n",
      "        \"ALL\": 134.8,\n",
      "        \"ARS\": 14.9236,\n",
      "        \"BAM\": 1.9458,\n",
      "        \"BBD\": 2.1189,\n",
      "        \"BDT\": 83.0919,\n",
      "        \"BHD\": 0.4055,\n",
      "        \"BIF\": 1654.26,\n",
      "        \"BMD\": 1.0787,\n",
      "        \"BND\": 1.5212,\n",
      "        \"BOB\": 7.275,\n",
      "        \"BSD\": 1.0748,\n",
      "        \"BWP\": 12.3896,\n",
      "        \"BZD\": 2.1081,\n",
      "        \"CLP\": 760.288,\n",
      "        \"COP\": 3529.1001,\n",
      "        \"CRC\": 565.94,\n",
      "        \"CUP\": 1.052,\n",
      "        \"CVE\": 110.265,\n",
      "        \"DJF\": 187.68,\n",
      "        \"DOP\": 48.469,\n",
      "        \"DZD\": 116.116,\n",
      "        \"EGP\": 8.469,\n",
      "        \"ETB\": 22.7263,\n",
      "        \"FJD\": 2.3395,\n",
      "        \"GHS\": 4.2681,\n",
      "        \"GNF\": 8275.2998,\n",
      "        \"GTQ\": 8.0723,\n",
      "        \"HNL\": 23.851,\n",
      "        \"HTG\": 62.316,\n",
      "        \"IQD\": 1242.38,\n",
      "        \"ISK\": 141.18,\n",
      "        \"JMD\": 128.786,\n",
      "        \"JOD\": 0.7607,\n",
      "        \"KES\": 109.03,\n",
      "        \"KHR\": 4271.3999,\n",
      "        \"KWD\": 0.3288,\n",
      "        \"KYD\": 0.8814,\n",
      "        \"KZT\": 404.68,\n",
      "        \"LAK\": 8578.9004,\n",
      "        \"LBP\": 1589.7,\n",
      "        \"LKR\": 152.383,\n",
      "        \"LSL\": 17.565,\n",
      "        \"LYD\": 1.4869,\n",
      "        \"MAD\": 10.467,\n",
      "        \"MDL\": 22.0223,\n",
      "        \"MGA\": 3436.55,\n",
      "        \"MKD\": 61.238,\n",
      "        \"MMK\": 1378.89,\n",
      "        \"MOP\": 8.4858,\n",
      "        \"MRO\": 326.37,\n",
      "        \"MUR\": 37.66,\n",
      "        \"MVR\": 16.201,\n",
      "        \"MWK\": 766.264,\n",
      "        \"NAD\": 17.565,\n",
      "        \"NGN\": 212.54,\n",
      "        \"NIO\": 29.2,\n",
      "        \"NPR\": 115.58,\n",
      "        \"OMR\": 0.4161,\n",
      "        \"PAB\": 1.0567,\n",
      "        \"PEN\": 3.6495,\n",
      "        \"PGK\": 3.1849,\n",
      "        \"PKR\": 111.905,\n",
      "        \"PYG\": 6307.1001,\n",
      "        \"QAR\": 3.9462,\n",
      "        \"RSD\": 123.229,\n",
      "        \"RWF\": 792.54,\n",
      "        \"SAR\": 4.0632,\n",
      "        \"SCR\": 13.933,\n",
      "        \"SDG\": 6.5488,\n",
      "        \"SOS\": 633.4,\n",
      "        \"STD\": 24500,\n",
      "        \"SVC\": 9.225,\n",
      "        \"SZL\": 17.6214,\n",
      "        \"TND\": 2.2151,\n",
      "        \"TTD\": 6.8226,\n",
      "        \"TWD\": 35.2366,\n",
      "        \"TZS\": 2317.99,\n",
      "        \"UAH\": 26.5279,\n",
      "        \"UGX\": 3717.3999,\n",
      "        \"UYU\": 32.984,\n",
      "        \"UZS\": 3012.3501,\n",
      "        \"VEF\": 6.814,\n",
      "        \"VND\": 23813,\n",
      "        \"XAF\": 655.957,\n",
      "        \"XOF\": 655.957,\n",
      "        \"XPF\": 119.26,\n",
      "        \"ZMW\": 12.1199\n",
      "    }\n",
      "}\n"
     ]
    }
   ],
   "source": [
    "data = response.json()\n",
    "print(json.dumps(data, indent = 4))"
   ]
  },
  {
   "cell_type": "markdown",
   "id": "c3ba7450",
   "metadata": {},
   "source": [
    "## Extracting data for a time period"
   ]
  },
  {
   "cell_type": "code",
   "execution_count": 91,
   "id": "b77d7462",
   "metadata": {},
   "outputs": [
    {
     "data": {
      "text/plain": [
       "'https://api.exchangerate.host/history?start_at=2017-04-26&end_at=2018-04-26&symbols=GBP'"
      ]
     },
     "execution_count": 91,
     "metadata": {},
     "output_type": "execute_result"
    }
   ],
   "source": [
    "# The URL for this request is formed with '/history' and the parameters 'start_at' and 'end_at'\n",
    "time_period = base_url + \"/history\" + \"?start_at=2017-04-26&end_at=2018-04-26\" + \"&symbols=GBP\"\n",
    "time_period"
   ]
  },
  {
   "cell_type": "code",
   "execution_count": 94,
   "id": "1124651f",
   "metadata": {},
   "outputs": [],
   "source": [
    "# Extracting the response JSON object\n",
    "data = requests.get(time_period).json()"
   ]
  },
  {
   "cell_type": "code",
   "execution_count": 95,
   "id": "69ced872",
   "metadata": {},
   "outputs": [
    {
     "name": "stdout",
     "output_type": "stream",
     "text": [
      "{\n",
      "    \"motd\": {\n",
      "        \"msg\": \"If you or your company use this project or like what we doing, please consider backing us so we can continue maintaining and evolving this project.\",\n",
      "        \"url\": \"https://exchangerate.host/#/donate\"\n",
      "    },\n",
      "    \"success\": true,\n",
      "    \"historical\": true,\n",
      "    \"base\": \"EUR\",\n",
      "    \"date\": \"2023-08-28\",\n",
      "    \"rates\": {\n",
      "        \"GBP\": 0.857633\n",
      "    }\n",
      "}\n"
     ]
    }
   ],
   "source": [
    "print(json.dumps(data, indent = 4)) # ??????"
   ]
  },
  {
   "cell_type": "markdown",
   "id": "284e08d8",
   "metadata": {},
   "source": [
    "## Testing the API response to incorrect input"
   ]
  },
  {
   "cell_type": "code",
   "execution_count": 100,
   "id": "78a564c4",
   "metadata": {},
   "outputs": [],
   "source": [
    "invalid_url = base_url + \"/2024-13-01\" + \"?symbolds=WBP\""
   ]
  },
  {
   "cell_type": "code",
   "execution_count": 101,
   "id": "16098239",
   "metadata": {},
   "outputs": [
    {
     "data": {
      "text/plain": [
       "404"
      ]
     },
     "execution_count": 101,
     "metadata": {},
     "output_type": "execute_result"
    }
   ],
   "source": [
    "response = requests.get(invalid_url)\n",
    "response.status_code"
   ]
  },
  {
   "cell_type": "code",
   "execution_count": 102,
   "id": "f59f23b4",
   "metadata": {},
   "outputs": [
    {
     "data": {
      "text/plain": [
       "{'success': False}"
      ]
     },
     "execution_count": 102,
     "metadata": {},
     "output_type": "execute_result"
    }
   ],
   "source": [
    "response.json()"
   ]
  }
 ],
 "metadata": {
  "kernelspec": {
   "display_name": "Python 3 (ipykernel)",
   "language": "python",
   "name": "python3"
  },
  "language_info": {
   "codemirror_mode": {
    "name": "ipython",
    "version": 3
   },
   "file_extension": ".py",
   "mimetype": "text/x-python",
   "name": "python",
   "nbconvert_exporter": "python",
   "pygments_lexer": "ipython3",
   "version": "3.9.13"
  }
 },
 "nbformat": 4,
 "nbformat_minor": 5
}
