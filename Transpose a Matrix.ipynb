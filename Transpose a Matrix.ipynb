{
 "cells": [
  {
   "cell_type": "markdown",
   "id": "b0c84a79",
   "metadata": {},
   "source": [
    "## Import the Relevant Libraries"
   ]
  },
  {
   "cell_type": "code",
   "execution_count": 2,
   "id": "1ed385ac",
   "metadata": {},
   "outputs": [],
   "source": [
    "import numpy as np"
   ]
  },
  {
   "cell_type": "markdown",
   "id": "4b8c2187",
   "metadata": {},
   "source": [
    "**Transposing Matrices**"
   ]
  },
  {
   "cell_type": "code",
   "execution_count": 3,
   "id": "e2da441b",
   "metadata": {},
   "outputs": [
    {
     "data": {
      "text/plain": [
       "array([[ 5, 12,  6],\n",
       "       [-3,  0, 14]])"
      ]
     },
     "execution_count": 3,
     "metadata": {},
     "output_type": "execute_result"
    }
   ],
   "source": [
    "A = np.array([[5, 12, 6], [-3, 0, 14]])\n",
    "A"
   ]
  },
  {
   "cell_type": "code",
   "execution_count": 4,
   "id": "4b2d132b",
   "metadata": {},
   "outputs": [
    {
     "data": {
      "text/plain": [
       "array([[ 5, -3],\n",
       "       [12,  0],\n",
       "       [ 6, 14]])"
      ]
     },
     "execution_count": 4,
     "metadata": {},
     "output_type": "execute_result"
    }
   ],
   "source": [
    "A.T"
   ]
  },
  {
   "cell_type": "code",
   "execution_count": 5,
   "id": "c2b7d768",
   "metadata": {},
   "outputs": [
    {
     "data": {
      "text/plain": [
       "array([[ 5,  3],\n",
       "       [-2,  4]])"
      ]
     },
     "execution_count": 5,
     "metadata": {},
     "output_type": "execute_result"
    }
   ],
   "source": [
    "B = np.array([[5, 3],[-2, 4]])\n",
    "B"
   ]
  },
  {
   "cell_type": "code",
   "execution_count": 6,
   "id": "a2e1dc03",
   "metadata": {},
   "outputs": [
    {
     "data": {
      "text/plain": [
       "array([[ 5, -2],\n",
       "       [ 3,  4]])"
      ]
     },
     "execution_count": 6,
     "metadata": {},
     "output_type": "execute_result"
    }
   ],
   "source": [
    "B.T"
   ]
  },
  {
   "cell_type": "code",
   "execution_count": 7,
   "id": "6e6259f3",
   "metadata": {},
   "outputs": [
    {
     "data": {
      "text/plain": [
       "array([[ 4, -5],\n",
       "       [ 8, 12],\n",
       "       [-2, -3],\n",
       "       [19,  0]])"
      ]
     },
     "execution_count": 7,
     "metadata": {},
     "output_type": "execute_result"
    }
   ],
   "source": [
    "C = np.array([[4, -5], [8, 12], [-2, -3], [19, 0]])\n",
    "C"
   ]
  },
  {
   "cell_type": "code",
   "execution_count": 8,
   "id": "647b7ac7",
   "metadata": {},
   "outputs": [
    {
     "data": {
      "text/plain": [
       "array([[ 4,  8, -2, 19],\n",
       "       [-5, 12, -3,  0]])"
      ]
     },
     "execution_count": 8,
     "metadata": {},
     "output_type": "execute_result"
    }
   ],
   "source": [
    "C.T"
   ]
  },
  {
   "cell_type": "markdown",
   "id": "b83ee127",
   "metadata": {},
   "source": [
    "**Transposing Scalars**"
   ]
  },
  {
   "cell_type": "code",
   "execution_count": 9,
   "id": "cc3913e1",
   "metadata": {},
   "outputs": [],
   "source": [
    "s = np.array([5])"
   ]
  },
  {
   "cell_type": "code",
   "execution_count": 10,
   "id": "0506d495",
   "metadata": {},
   "outputs": [
    {
     "data": {
      "text/plain": [
       "array([5])"
      ]
     },
     "execution_count": 10,
     "metadata": {},
     "output_type": "execute_result"
    }
   ],
   "source": [
    "s.T"
   ]
  },
  {
   "cell_type": "markdown",
   "id": "2d13793c",
   "metadata": {},
   "source": [
    "**Transposing vectors**"
   ]
  },
  {
   "cell_type": "code",
   "execution_count": 11,
   "id": "c983b982",
   "metadata": {},
   "outputs": [
    {
     "data": {
      "text/plain": [
       "array([1, 2, 3])"
      ]
     },
     "execution_count": 11,
     "metadata": {},
     "output_type": "execute_result"
    }
   ],
   "source": [
    "x = np.array([1,2,3])\n",
    "x"
   ]
  },
  {
   "cell_type": "code",
   "execution_count": 12,
   "id": "3344cabe",
   "metadata": {},
   "outputs": [
    {
     "data": {
      "text/plain": [
       "array([1, 2, 3])"
      ]
     },
     "execution_count": 12,
     "metadata": {},
     "output_type": "execute_result"
    }
   ],
   "source": [
    "x.T"
   ]
  },
  {
   "cell_type": "code",
   "execution_count": 13,
   "id": "cc23fb35",
   "metadata": {},
   "outputs": [
    {
     "data": {
      "text/plain": [
       "(3,)"
      ]
     },
     "execution_count": 13,
     "metadata": {},
     "output_type": "execute_result"
    }
   ],
   "source": [
    "x.shape"
   ]
  },
  {
   "cell_type": "code",
   "execution_count": 16,
   "id": "03080e45",
   "metadata": {},
   "outputs": [
    {
     "data": {
      "text/plain": [
       "array([[1, 2, 3]])"
      ]
     },
     "execution_count": 16,
     "metadata": {},
     "output_type": "execute_result"
    }
   ],
   "source": [
    "x_reshaped = x.reshape(1,3)\n",
    "x_reshaped"
   ]
  },
  {
   "cell_type": "code",
   "execution_count": 17,
   "id": "e7d6ba22",
   "metadata": {},
   "outputs": [
    {
     "data": {
      "text/plain": [
       "array([[1],\n",
       "       [2],\n",
       "       [3]])"
      ]
     },
     "execution_count": 17,
     "metadata": {},
     "output_type": "execute_result"
    }
   ],
   "source": [
    "x_reshaped.T"
   ]
  }
 ],
 "metadata": {
  "kernelspec": {
   "display_name": "Python 3 (ipykernel)",
   "language": "python",
   "name": "python3"
  },
  "language_info": {
   "codemirror_mode": {
    "name": "ipython",
    "version": 3
   },
   "file_extension": ".py",
   "mimetype": "text/x-python",
   "name": "python",
   "nbconvert_exporter": "python",
   "pygments_lexer": "ipython3",
   "version": "3.9.13"
  }
 },
 "nbformat": 4,
 "nbformat_minor": 5
}
