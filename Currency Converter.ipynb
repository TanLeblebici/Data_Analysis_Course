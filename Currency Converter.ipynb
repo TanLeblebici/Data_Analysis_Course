{
 "cells": [
  {
   "cell_type": "code",
   "execution_count": 1,
   "id": "f8af1223",
   "metadata": {},
   "outputs": [],
   "source": [
    "base_url = \"https://api.exchangerate.host\""
   ]
  },
  {
   "cell_type": "code",
   "execution_count": 2,
   "id": "fd3268f3",
   "metadata": {},
   "outputs": [],
   "source": [
    "import json"
   ]
  },
  {
   "cell_type": "code",
   "execution_count": 3,
   "id": "f401b9c6",
   "metadata": {},
   "outputs": [],
   "source": [
    "import requests"
   ]
  },
  {
   "cell_type": "code",
   "execution_count": 9,
   "id": "abb953fb",
   "metadata": {},
   "outputs": [
    {
     "name": "stdout",
     "output_type": "stream",
     "text": [
      "Please enter the date (in the format 'yyyy-mm-dd' or 'latest'):2020-10--10\n",
      "Convert from (currency):USD\n",
      "Convert to (currency):EUR\n",
      "How much USD do you want to convert: 100\n",
      "\n",
      "100.0 USD is equal to 85.1443 EUR, based upon exchange rates on 2020-09-29\n"
     ]
    }
   ],
   "source": [
    "date = input(\"Please enter the date (in the format 'yyyy-mm-dd' or 'latest'):\")\n",
    "base = input(\"Convert from (currency):\")\n",
    "curr = input('Convert to (currency):')\n",
    "quantity = float(input('How much {} do you want to convert: '.format(base)))\n",
    "\n",
    "url = base_url + \"/\" + date + \"?base=\" + base + \"&symbols=\" + curr\n",
    "response = requests.get(url)\n",
    "\n",
    "if(response.ok is False):\n",
    "    print(\"\\nError {}:\".format(response.status_code))\n",
    "    print(response.json()['error'])\n",
    "else:\n",
    "    data = response.json()\n",
    "    rate = data['rates'][curr]\n",
    "    \n",
    "    result = quantity * rate\n",
    "    \n",
    "    print(\"\\n{0} {1} is equal to {2} {3}, based upon exchange rates on {4}\".format(quantity, base, result, curr, data['date']))"
   ]
  }
 ],
 "metadata": {
  "kernelspec": {
   "display_name": "Python 3 (ipykernel)",
   "language": "python",
   "name": "python3"
  },
  "language_info": {
   "codemirror_mode": {
    "name": "ipython",
    "version": 3
   },
   "file_extension": ".py",
   "mimetype": "text/x-python",
   "name": "python",
   "nbconvert_exporter": "python",
   "pygments_lexer": "ipython3",
   "version": "3.9.13"
  }
 },
 "nbformat": 4,
 "nbformat_minor": 5
}
