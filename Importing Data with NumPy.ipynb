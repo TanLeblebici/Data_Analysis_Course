{
 "cells": [
  {
   "cell_type": "code",
   "execution_count": 34,
   "id": "52e87fae",
   "metadata": {},
   "outputs": [],
   "source": [
    "import numpy as np"
   ]
  },
  {
   "cell_type": "code",
   "execution_count": 35,
   "id": "423d5430",
   "metadata": {},
   "outputs": [
    {
     "data": {
      "text/plain": [
       "array([[ 2000.,    40.,   365.,  3121.,  4241., 13621.],\n",
       "       [ 2000.,    40.,   365.,  3061.,  4171., 15041.],\n",
       "       [ 1000.,    40.,   365.,  2160.,  3280., 15340.],\n",
       "       ...,\n",
       "       [ 2000.,    40.,   365.,  4201.,  5001., 16600.],\n",
       "       [ 1000.,    40.,   365.,  2080.,  3320., 15600.],\n",
       "       [ 2000.,    40.,   365.,  4601.,  4601., 16600.]])"
      ]
     },
     "execution_count": 35,
     "metadata": {},
     "output_type": "execute_result"
    }
   ],
   "source": [
    "lending_company_data_numeric_1 = np.loadtxt(\"Lending-Company-Numeric-Data.csv\", delimiter = ',')\n",
    "lending_company_data_numeric_1\n"
   ]
  },
  {
   "cell_type": "code",
   "execution_count": 36,
   "id": "a06ae13c",
   "metadata": {},
   "outputs": [
    {
     "data": {
      "text/plain": [
       "array([[ 2000.,    40.,   365.,  3121.,  4241., 13621.],\n",
       "       [ 2000.,    40.,   365.,  3061.,  4171., 15041.],\n",
       "       [ 1000.,    40.,   365.,  2160.,  3280., 15340.],\n",
       "       ...,\n",
       "       [ 2000.,    40.,   365.,  4201.,  5001., 16600.],\n",
       "       [ 1000.,    40.,   365.,  2080.,  3320., 15600.],\n",
       "       [ 2000.,    40.,   365.,  4601.,  4601., 16600.]])"
      ]
     },
     "execution_count": 36,
     "metadata": {},
     "output_type": "execute_result"
    }
   ],
   "source": [
    "lending_company_data_numeric_2 = np.genfromtxt(\"Lending-Company-Numeric-Data.csv\", delimiter = ',')\n",
    "lending_company_data_numeric_2"
   ]
  },
  {
   "cell_type": "code",
   "execution_count": 37,
   "id": "cc808eb9",
   "metadata": {},
   "outputs": [
    {
     "data": {
      "text/plain": [
       "True"
      ]
     },
     "execution_count": 37,
     "metadata": {},
     "output_type": "execute_result"
    }
   ],
   "source": [
    "np.array_equal(lending_company_data_numeric1, lending_company_data_numeric_2)"
   ]
  },
  {
   "cell_type": "code",
   "execution_count": 38,
   "id": "c9724ee0",
   "metadata": {},
   "outputs": [
    {
     "data": {
      "text/plain": [
       "array([['2000', '40', '365', '3121', '4241', '13621'],\n",
       "       ['2000', '40', '365', '3061', '4171', '15041'],\n",
       "       ['1000', '40', '365', '2160', '3280', '15340'],\n",
       "       ...,\n",
       "       ['', '40', '365', '4201', '5001', '16600'],\n",
       "       ['1000', '40', '365', '2080', '3320', '15600'],\n",
       "       ['2000', '40', '365', '4601', '4601', '16600']], dtype='<U5')"
      ]
     },
     "execution_count": 38,
     "metadata": {},
     "output_type": "execute_result"
    }
   ],
   "source": [
    "# They are saved as a plain text rather than number\n",
    "\n",
    "# All the values now have sinlge quotes around them\n",
    "\n",
    "# We can use this way of importing dataset only if we want to observe the data values that have been stored in it,\n",
    "# and we DON'T need to execute any mathematical operations \n",
    "lending_company_data_numeric_NAN = np.loadtxt(\"Lending-Company-Numeric-Data-NAN.csv\",\n",
    "                                             delimiter = ';',\n",
    "                                             dtype = str)\n",
    "lending_company_data_numeric_NAN"
   ]
  },
  {
   "cell_type": "code",
   "execution_count": 39,
   "id": "82773cbf",
   "metadata": {},
   "outputs": [
    {
     "data": {
      "text/plain": [
       "array([[ 2000.,    40.,   365.,  3121.,  4241., 13621.],\n",
       "       [ 2000.,    40.,   365.,  3061.,  4171., 15041.],\n",
       "       [ 1000.,    40.,   365.,  2160.,  3280., 15340.],\n",
       "       ...,\n",
       "       [   nan,    40.,   365.,  4201.,  5001., 16600.],\n",
       "       [ 1000.,    40.,   365.,  2080.,  3320., 15600.],\n",
       "       [ 2000.,    40.,   365.,  4601.,  4601., 16600.]])"
      ]
     },
     "execution_count": 39,
     "metadata": {},
     "output_type": "execute_result"
    }
   ],
   "source": [
    "lending_company_data_numeric_NAN = np.genfromtxt(\"Lending-Company-Numeric-Data-NAN.csv\", delimiter = ';')\n",
    "lending_company_data_numeric_NAN"
   ]
  },
  {
   "cell_type": "markdown",
   "id": "6149efb4",
   "metadata": {},
   "source": [
    "## Partial Cleaning While Importing"
   ]
  },
  {
   "cell_type": "code",
   "execution_count": 40,
   "id": "904f3662",
   "metadata": {},
   "outputs": [
    {
     "data": {
      "text/plain": [
       "array([[ 2000.,    40.,   365.,  3121.,  4241., 13621.],\n",
       "       [ 2000.,    40.,   365.,  3061.,  4171., 15041.],\n",
       "       [ 1000.,    40.,   365.,  2160.,  3280., 15340.],\n",
       "       ...,\n",
       "       [   nan,    40.,   365.,  4201.,  5001., 16600.],\n",
       "       [ 1000.,    40.,   365.,  2080.,  3320., 15600.],\n",
       "       [ 2000.,    40.,   365.,  4601.,  4601., 16600.]])"
      ]
     },
     "execution_count": 40,
     "metadata": {},
     "output_type": "execute_result"
    }
   ],
   "source": [
    "lending_company_data_numeric_NAN = np.genfromtxt(\"Lending-Company-Numeric-Data-NAN.csv\", delimiter = ';')\n",
    "lending_company_data_numeric_NAN"
   ]
  },
  {
   "cell_type": "code",
   "execution_count": 41,
   "id": "edee2acd",
   "metadata": {},
   "outputs": [
    {
     "data": {
      "text/plain": [
       "array([[ 1000.,    40.,   365.,  2160.,  3280., 15340.],\n",
       "       [ 2000.,    40.,   365.,  3041.,  4241., 15321.],\n",
       "       [ 2000.,    50.,   365.,  3470.,  4820., 13720.],\n",
       "       ...,\n",
       "       [   nan,    40.,   365.,  4201.,  5001., 16600.],\n",
       "       [ 1000.,    40.,   365.,  2080.,  3320., 15600.],\n",
       "       [ 2000.,    40.,   365.,  4601.,  4601., 16600.]])"
      ]
     },
     "execution_count": 41,
     "metadata": {},
     "output_type": "execute_result"
    }
   ],
   "source": [
    "lending_company_data_numeric_NAN = np.genfromtxt(\"Lending-Company-Numeric-Data-NAN.csv\",\n",
    "                                                 delimiter = ';', \n",
    "                                                 skip_header = 2)\n",
    "lending_company_data_numeric_NAN"
   ]
  },
  {
   "cell_type": "code",
   "execution_count": 42,
   "id": "8eaf521f",
   "metadata": {},
   "outputs": [
    {
     "data": {
      "text/plain": [
       "array([[ 2000.,    40.,   365.,  3121.,  4241., 13621.],\n",
       "       [ 2000.,    40.,   365.,  3061.,  4171., 15041.],\n",
       "       [ 1000.,    40.,   365.,  2160.,  3280., 15340.],\n",
       "       ...,\n",
       "       [ 2000.,    40.,   365.,  3401.,    nan, 16600.],\n",
       "       [ 2000.,    40.,   365.,    nan,  5440., 16600.],\n",
       "       [   nan,    40.,   365.,  4201.,  5001., 16600.]])"
      ]
     },
     "execution_count": 42,
     "metadata": {},
     "output_type": "execute_result"
    }
   ],
   "source": [
    "lending_company_data_numeric_NAN = np.genfromtxt(\"Lending-Company-Numeric-Data-NAN.csv\",\n",
    "                                                 delimiter = ';', \n",
    "                                                 skip_footer = 2)\n",
    "lending_company_data_numeric_NAN"
   ]
  },
  {
   "cell_type": "code",
   "execution_count": 43,
   "id": "0fd5a3f9",
   "metadata": {},
   "outputs": [
    {
     "data": {
      "text/plain": [
       "array([[ 2000.,    40., 13621.],\n",
       "       [ 2000.,    40., 15041.],\n",
       "       [ 1000.,    40., 15340.],\n",
       "       ...,\n",
       "       [   nan,    40., 16600.],\n",
       "       [ 1000.,    40., 15600.],\n",
       "       [ 2000.,    40., 16600.]])"
      ]
     },
     "execution_count": 43,
     "metadata": {},
     "output_type": "execute_result"
    }
   ],
   "source": [
    "lending_company_data_numeric_NAN = np.genfromtxt(\"Lending-Company-Numeric-Data-NAN.csv\",\n",
    "                                                 delimiter = \";\", \n",
    "                                                 usecols = (0,1,5))\n",
    "lending_company_data_numeric_NAN"
   ]
  },
  {
   "cell_type": "code",
   "execution_count": 44,
   "id": "55202085",
   "metadata": {},
   "outputs": [
    {
     "data": {
      "text/plain": [
       "array([[ 1000.,    40., 15340.],\n",
       "       [ 2000.,    40., 15321.],\n",
       "       [ 2000.,    50., 13720.],\n",
       "       ...,\n",
       "       [ 2000.,    40., 16600.],\n",
       "       [ 2000.,    40., 16600.],\n",
       "       [   nan,    40., 16600.]])"
      ]
     },
     "execution_count": 44,
     "metadata": {},
     "output_type": "execute_result"
    }
   ],
   "source": [
    "lending_company_data_numeric_NAN = np.genfromtxt(\"Lending-Company-Numeric-Data-NAN.csv\",\n",
    "                                                 delimiter = ';', \n",
    "                                                 skip_header = 2,\n",
    "                                                 skip_footer = 2,\n",
    "                                                 usecols = (0,1,5))\n",
    "lending_company_data_numeric_NAN"
   ]
  },
  {
   "cell_type": "code",
   "execution_count": 45,
   "id": "2ec394fc",
   "metadata": {},
   "outputs": [
    {
     "data": {
      "text/plain": [
       "array([[ 1000.,    40., 15340.],\n",
       "       [ 2000.,    40., 15321.],\n",
       "       [ 2000.,    50., 13720.],\n",
       "       ...,\n",
       "       [ 2000.,    40., 16600.],\n",
       "       [ 2000.,    40., 16600.],\n",
       "       [   nan,    40., 16600.]])"
      ]
     },
     "execution_count": 45,
     "metadata": {},
     "output_type": "execute_result"
    }
   ],
   "source": [
    "# Splitting ( unpacking ) the output one for each variable\n",
    "lending_co_data_5, lending_co_data_0, lending_co_data_1 = np.genfromtxt(\"Lending-Company-Numeric-Data-NAN.csv\",\n",
    "                                                                        delimiter = ';', \n",
    "                                                                        skip_header = 2,\n",
    "                                                                        skip_footer = 2,\n",
    "                                                                        usecols = (5,0,1),\n",
    "                                                                        unpack = True)\n",
    "lending_company_data_numeric_NAN"
   ]
  }
 ],
 "metadata": {
  "kernelspec": {
   "display_name": "Python 3 (ipykernel)",
   "language": "python",
   "name": "python3"
  },
  "language_info": {
   "codemirror_mode": {
    "name": "ipython",
    "version": 3
   },
   "file_extension": ".py",
   "mimetype": "text/x-python",
   "name": "python",
   "nbconvert_exporter": "python",
   "pygments_lexer": "ipython3",
   "version": "3.9.13"
  }
 },
 "nbformat": 4,
 "nbformat_minor": 5
}
